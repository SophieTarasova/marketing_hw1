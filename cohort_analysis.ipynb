{
 "cells": [
  {
   "cell_type": "markdown",
   "id": "bcc1188c",
   "metadata": {},
   "source": [
    "1. Importing libraries"
   ]
  },
  {
   "cell_type": "code",
   "execution_count": 21,
   "id": "d2183f52",
   "metadata": {},
   "outputs": [],
   "source": [
    "import pandas as pd\n",
    "import matplotlib.pyplot as plt # for plotting graphs\n",
    "import seaborn as sns # for plotting graphs\n",
    "import datetime as dt\n",
    "from datetime import date, time, datetime\n",
    "from operator import attrgetter\n",
    "from scipy.interpolate import interp1d"
   ]
  },
  {
   "cell_type": "markdown",
   "id": "1d63704f",
   "metadata": {},
   "source": [
    "2. Customer data"
   ]
  },
  {
   "cell_type": "markdown",
   "id": "8bdf97ca",
   "metadata": {},
   "source": [
    "2.1 Importing file "
   ]
  },
  {
   "cell_type": "code",
   "execution_count": 45,
   "id": "f55e96bc",
   "metadata": {},
   "outputs": [
    {
     "name": "stderr",
     "output_type": "stream",
     "text": [
      "C:\\Users\\ТарасоваСофияАльберт\\AppData\\Local\\Temp\\ipykernel_6184\\538575721.py:1: DtypeWarning: Columns (2,3,4,5) have mixed types. Specify dtype option on import or set low_memory=False.\n",
      "  df_cust = pd.read_csv('customers_sample.csv', sep=';')\n"
     ]
    },
    {
     "data": {
      "text/html": [
       "<div>\n",
       "<style scoped>\n",
       "    .dataframe tbody tr th:only-of-type {\n",
       "        vertical-align: middle;\n",
       "    }\n",
       "\n",
       "    .dataframe tbody tr th {\n",
       "        vertical-align: top;\n",
       "    }\n",
       "\n",
       "    .dataframe thead th {\n",
       "        text-align: right;\n",
       "    }\n",
       "</style>\n",
       "<table border=\"1\" class=\"dataframe\">\n",
       "  <thead>\n",
       "    <tr style=\"text-align: right;\">\n",
       "      <th></th>\n",
       "      <th>uid1</th>\n",
       "      <th>customer_age</th>\n",
       "      <th>country</th>\n",
       "      <th>city_of_living</th>\n",
       "      <th>registration_dt</th>\n",
       "      <th>website_last_visit_date</th>\n",
       "      <th>email</th>\n",
       "      <th>has_mob_app</th>\n",
       "      <th>phone_number</th>\n",
       "      <th>push</th>\n",
       "    </tr>\n",
       "  </thead>\n",
       "  <tbody>\n",
       "    <tr>\n",
       "      <th>0</th>\n",
       "      <td>8388.0</td>\n",
       "      <td>46.0</td>\n",
       "      <td>RUSSIA</td>\n",
       "      <td>Kazan</td>\n",
       "      <td>18.02.2017</td>\n",
       "      <td>01.05.2019</td>\n",
       "      <td>0.0</td>\n",
       "      <td>0.0</td>\n",
       "      <td>1.0</td>\n",
       "      <td>0.0</td>\n",
       "    </tr>\n",
       "    <tr>\n",
       "      <th>1</th>\n",
       "      <td>17264.0</td>\n",
       "      <td>20.0</td>\n",
       "      <td>RUSSIA</td>\n",
       "      <td>Sevastopol</td>\n",
       "      <td>21.07.2020</td>\n",
       "      <td>03.10.2021</td>\n",
       "      <td>0.0</td>\n",
       "      <td>0.0</td>\n",
       "      <td>1.0</td>\n",
       "      <td>0.0</td>\n",
       "    </tr>\n",
       "    <tr>\n",
       "      <th>2</th>\n",
       "      <td>17373.0</td>\n",
       "      <td>31.0</td>\n",
       "      <td>RUSSIA</td>\n",
       "      <td>Kazan</td>\n",
       "      <td>26.02.2016</td>\n",
       "      <td>24.12.2018</td>\n",
       "      <td>0.0</td>\n",
       "      <td>1.0</td>\n",
       "      <td>1.0</td>\n",
       "      <td>0.0</td>\n",
       "    </tr>\n",
       "    <tr>\n",
       "      <th>3</th>\n",
       "      <td>26297.0</td>\n",
       "      <td>27.0</td>\n",
       "      <td>RUSSIA</td>\n",
       "      <td>Sevastopol</td>\n",
       "      <td>25.01.2018</td>\n",
       "      <td>16.04.2018</td>\n",
       "      <td>0.0</td>\n",
       "      <td>1.0</td>\n",
       "      <td>1.0</td>\n",
       "      <td>1.0</td>\n",
       "    </tr>\n",
       "    <tr>\n",
       "      <th>4</th>\n",
       "      <td>27044.0</td>\n",
       "      <td>41.0</td>\n",
       "      <td>RUSSIA</td>\n",
       "      <td>Sevastopol</td>\n",
       "      <td>17.07.2015</td>\n",
       "      <td>30.07.2016</td>\n",
       "      <td>0.0</td>\n",
       "      <td>0.0</td>\n",
       "      <td>0.0</td>\n",
       "      <td>0.0</td>\n",
       "    </tr>\n",
       "  </tbody>\n",
       "</table>\n",
       "</div>"
      ],
      "text/plain": [
       "      uid1  customer_age country city_of_living registration_dt  \\\n",
       "0   8388.0          46.0  RUSSIA          Kazan      18.02.2017   \n",
       "1  17264.0          20.0  RUSSIA     Sevastopol      21.07.2020   \n",
       "2  17373.0          31.0  RUSSIA          Kazan      26.02.2016   \n",
       "3  26297.0          27.0  RUSSIA     Sevastopol      25.01.2018   \n",
       "4  27044.0          41.0  RUSSIA     Sevastopol      17.07.2015   \n",
       "\n",
       "  website_last_visit_date  email  has_mob_app  phone_number  push  \n",
       "0              01.05.2019    0.0          0.0           1.0   0.0  \n",
       "1              03.10.2021    0.0          0.0           1.0   0.0  \n",
       "2              24.12.2018    0.0          1.0           1.0   0.0  \n",
       "3              16.04.2018    0.0          1.0           1.0   1.0  \n",
       "4              30.07.2016    0.0          0.0           0.0   0.0  "
      ]
     },
     "execution_count": 45,
     "metadata": {},
     "output_type": "execute_result"
    }
   ],
   "source": [
    "df_cust = pd.read_csv('customers_sample.csv', sep=';')\n",
    "df_cust.head()\n",
    "#df_cust.dtypes"
   ]
  },
  {
   "cell_type": "markdown",
   "id": "3fc60063",
   "metadata": {},
   "source": [
    "2.2 Data preparation"
   ]
  },
  {
   "cell_type": "code",
   "execution_count": 3,
   "id": "b02ccd34",
   "metadata": {},
   "outputs": [
    {
     "data": {
      "text/plain": [
       "uid1                       10000\n",
       "customer_age                  88\n",
       "country                        1\n",
       "city_of_living                21\n",
       "registration_dt             3086\n",
       "website_last_visit_date     2489\n",
       "email                          2\n",
       "has_mob_app                    2\n",
       "phone_number                   2\n",
       "push                           2\n",
       "dtype: int64"
      ]
     },
     "execution_count": 3,
     "metadata": {},
     "output_type": "execute_result"
    }
   ],
   "source": [
    "# unique values\n",
    "df_cust.nunique()"
   ]
  },
  {
   "cell_type": "code",
   "execution_count": 4,
   "id": "8ededb3e",
   "metadata": {},
   "outputs": [
    {
     "data": {
      "text/plain": [
       "(1048575, 10)"
      ]
     },
     "execution_count": 4,
     "metadata": {},
     "output_type": "execute_result"
    }
   ],
   "source": [
    "# dataset size\n",
    "df_cust.shape"
   ]
  },
  {
   "cell_type": "code",
   "execution_count": 46,
   "id": "be2a676d",
   "metadata": {},
   "outputs": [],
   "source": [
    "# let's change registration_dt and website_last_visit_date to date formats\n",
    "df_cust['registration_dt'] = pd.to_datetime(df_cust['registration_dt'], format=\"%d.%m.%Y\")\n",
    "df_cust['website_last_visit_date'] = pd.to_datetime(df_cust['website_last_visit_date'], format=\"%d.%m.%Y\")"
   ]
  },
  {
   "cell_type": "code",
   "execution_count": 47,
   "id": "a9614be1",
   "metadata": {},
   "outputs": [
    {
     "data": {
      "text/html": [
       "<div>\n",
       "<style scoped>\n",
       "    .dataframe tbody tr th:only-of-type {\n",
       "        vertical-align: middle;\n",
       "    }\n",
       "\n",
       "    .dataframe tbody tr th {\n",
       "        vertical-align: top;\n",
       "    }\n",
       "\n",
       "    .dataframe thead th {\n",
       "        text-align: right;\n",
       "    }\n",
       "</style>\n",
       "<table border=\"1\" class=\"dataframe\">\n",
       "  <thead>\n",
       "    <tr style=\"text-align: right;\">\n",
       "      <th></th>\n",
       "      <th>uid1</th>\n",
       "      <th>customer_age</th>\n",
       "      <th>country</th>\n",
       "      <th>city_of_living</th>\n",
       "      <th>registration_dt</th>\n",
       "      <th>website_last_visit_date</th>\n",
       "      <th>email</th>\n",
       "      <th>has_mob_app</th>\n",
       "      <th>phone_number</th>\n",
       "      <th>push</th>\n",
       "    </tr>\n",
       "  </thead>\n",
       "  <tbody>\n",
       "    <tr>\n",
       "      <th>0</th>\n",
       "      <td>8388.0</td>\n",
       "      <td>46.0</td>\n",
       "      <td>RUSSIA</td>\n",
       "      <td>Kazan</td>\n",
       "      <td>2017-02-18</td>\n",
       "      <td>2019-05-01</td>\n",
       "      <td>0.0</td>\n",
       "      <td>0.0</td>\n",
       "      <td>1.0</td>\n",
       "      <td>0.0</td>\n",
       "    </tr>\n",
       "    <tr>\n",
       "      <th>1</th>\n",
       "      <td>17264.0</td>\n",
       "      <td>20.0</td>\n",
       "      <td>RUSSIA</td>\n",
       "      <td>Sevastopol</td>\n",
       "      <td>2020-07-21</td>\n",
       "      <td>2021-10-03</td>\n",
       "      <td>0.0</td>\n",
       "      <td>0.0</td>\n",
       "      <td>1.0</td>\n",
       "      <td>0.0</td>\n",
       "    </tr>\n",
       "    <tr>\n",
       "      <th>2</th>\n",
       "      <td>17373.0</td>\n",
       "      <td>31.0</td>\n",
       "      <td>RUSSIA</td>\n",
       "      <td>Kazan</td>\n",
       "      <td>2016-02-26</td>\n",
       "      <td>2018-12-24</td>\n",
       "      <td>0.0</td>\n",
       "      <td>1.0</td>\n",
       "      <td>1.0</td>\n",
       "      <td>0.0</td>\n",
       "    </tr>\n",
       "    <tr>\n",
       "      <th>3</th>\n",
       "      <td>26297.0</td>\n",
       "      <td>27.0</td>\n",
       "      <td>RUSSIA</td>\n",
       "      <td>Sevastopol</td>\n",
       "      <td>2018-01-25</td>\n",
       "      <td>2018-04-16</td>\n",
       "      <td>0.0</td>\n",
       "      <td>1.0</td>\n",
       "      <td>1.0</td>\n",
       "      <td>1.0</td>\n",
       "    </tr>\n",
       "    <tr>\n",
       "      <th>4</th>\n",
       "      <td>27044.0</td>\n",
       "      <td>41.0</td>\n",
       "      <td>RUSSIA</td>\n",
       "      <td>Sevastopol</td>\n",
       "      <td>2015-07-17</td>\n",
       "      <td>2016-07-30</td>\n",
       "      <td>0.0</td>\n",
       "      <td>0.0</td>\n",
       "      <td>0.0</td>\n",
       "      <td>0.0</td>\n",
       "    </tr>\n",
       "  </tbody>\n",
       "</table>\n",
       "</div>"
      ],
      "text/plain": [
       "      uid1  customer_age country city_of_living registration_dt  \\\n",
       "0   8388.0          46.0  RUSSIA          Kazan      2017-02-18   \n",
       "1  17264.0          20.0  RUSSIA     Sevastopol      2020-07-21   \n",
       "2  17373.0          31.0  RUSSIA          Kazan      2016-02-26   \n",
       "3  26297.0          27.0  RUSSIA     Sevastopol      2018-01-25   \n",
       "4  27044.0          41.0  RUSSIA     Sevastopol      2015-07-17   \n",
       "\n",
       "  website_last_visit_date  email  has_mob_app  phone_number  push  \n",
       "0              2019-05-01    0.0          0.0           1.0   0.0  \n",
       "1              2021-10-03    0.0          0.0           1.0   0.0  \n",
       "2              2018-12-24    0.0          1.0           1.0   0.0  \n",
       "3              2018-04-16    0.0          1.0           1.0   1.0  \n",
       "4              2016-07-30    0.0          0.0           0.0   0.0  "
      ]
     },
     "execution_count": 47,
     "metadata": {},
     "output_type": "execute_result"
    }
   ],
   "source": [
    "df_cust.head()"
   ]
  },
  {
   "cell_type": "code",
   "execution_count": 48,
   "id": "3058bbf0",
   "metadata": {},
   "outputs": [],
   "source": [
    "# as we can see, dataset is bigger than it's actual data\n",
    "# let's choose only those rows, where uid1 is not null\n",
    "df_cust = df_cust[df_cust['uid1'].notna()]"
   ]
  },
  {
   "cell_type": "code",
   "execution_count": 49,
   "id": "33d9fe15",
   "metadata": {},
   "outputs": [],
   "source": [
    "# we have three other columns with empty values: age, registration date, web site last visit\n",
    "# let's transorm them\n",
    "df_cust.customer_age.fillna(df_cust.customer_age.median(), inplace=True)\n",
    "df_cust.registration_dt.fillna(pd.to_datetime('01.01.2099', format=\"%d.%m.%Y\"), inplace=True)\n",
    "df_cust.website_last_visit_date.fillna(pd.to_datetime('01.01.2099', format=\"%d.%m.%Y\"), inplace=True)"
   ]
  },
  {
   "cell_type": "code",
   "execution_count": 50,
   "id": "1421bcb7",
   "metadata": {},
   "outputs": [
    {
     "data": {
      "text/plain": [
       "(10000, 10)"
      ]
     },
     "execution_count": 50,
     "metadata": {},
     "output_type": "execute_result"
    }
   ],
   "source": [
    "df_cust.shape"
   ]
  },
  {
   "cell_type": "code",
   "execution_count": 57,
   "id": "f44dcb7b",
   "metadata": {},
   "outputs": [],
   "source": [
    "# and create month of registration\n",
    "df_cust['registration_month'] = df_cust['registration_dt'] + pd.offsets.MonthBegin(-1)"
   ]
  },
  {
   "cell_type": "markdown",
   "id": "3a85621c",
   "metadata": {},
   "source": [
    "3. Transaction data"
   ]
  },
  {
   "cell_type": "markdown",
   "id": "58284534",
   "metadata": {},
   "source": [
    "3.1 Importing file"
   ]
  },
  {
   "cell_type": "code",
   "execution_count": 8,
   "id": "806fa23c",
   "metadata": {},
   "outputs": [
    {
     "data": {
      "text/html": [
       "<div>\n",
       "<style scoped>\n",
       "    .dataframe tbody tr th:only-of-type {\n",
       "        vertical-align: middle;\n",
       "    }\n",
       "\n",
       "    .dataframe tbody tr th {\n",
       "        vertical-align: top;\n",
       "    }\n",
       "\n",
       "    .dataframe thead th {\n",
       "        text-align: right;\n",
       "    }\n",
       "</style>\n",
       "<table border=\"1\" class=\"dataframe\">\n",
       "  <thead>\n",
       "    <tr style=\"text-align: right;\">\n",
       "      <th></th>\n",
       "      <th>uid1</th>\n",
       "      <th>date_pur</th>\n",
       "      <th>mcc_id</th>\n",
       "      <th>transaction_amt</th>\n",
       "      <th>transaction_qty</th>\n",
       "    </tr>\n",
       "  </thead>\n",
       "  <tbody>\n",
       "    <tr>\n",
       "      <th>0</th>\n",
       "      <td>14164181</td>\n",
       "      <td>2020-09-10</td>\n",
       "      <td>5499</td>\n",
       "      <td>418.00</td>\n",
       "      <td>1</td>\n",
       "    </tr>\n",
       "    <tr>\n",
       "      <th>1</th>\n",
       "      <td>15453249</td>\n",
       "      <td>2020-08-10</td>\n",
       "      <td>5541</td>\n",
       "      <td>1034.00</td>\n",
       "      <td>1</td>\n",
       "    </tr>\n",
       "    <tr>\n",
       "      <th>2</th>\n",
       "      <td>41571339</td>\n",
       "      <td>2020-09-12</td>\n",
       "      <td>5411</td>\n",
       "      <td>57.98</td>\n",
       "      <td>1</td>\n",
       "    </tr>\n",
       "    <tr>\n",
       "      <th>3</th>\n",
       "      <td>2044223</td>\n",
       "      <td>2021-06-28</td>\n",
       "      <td>5921</td>\n",
       "      <td>549.40</td>\n",
       "      <td>4</td>\n",
       "    </tr>\n",
       "    <tr>\n",
       "      <th>4</th>\n",
       "      <td>33493259</td>\n",
       "      <td>2020-07-20</td>\n",
       "      <td>4121</td>\n",
       "      <td>578.00</td>\n",
       "      <td>2</td>\n",
       "    </tr>\n",
       "  </tbody>\n",
       "</table>\n",
       "</div>"
      ],
      "text/plain": [
       "       uid1    date_pur  mcc_id  transaction_amt  transaction_qty\n",
       "0  14164181  2020-09-10    5499           418.00                1\n",
       "1  15453249  2020-08-10    5541          1034.00                1\n",
       "2  41571339  2020-09-12    5411            57.98                1\n",
       "3   2044223  2021-06-28    5921           549.40                4\n",
       "4  33493259  2020-07-20    4121           578.00                2"
      ]
     },
     "execution_count": 8,
     "metadata": {},
     "output_type": "execute_result"
    }
   ],
   "source": [
    "df_trans = pd.read_csv('transactional_data.csv', sep=',')\n",
    "df_trans.head()"
   ]
  },
  {
   "cell_type": "markdown",
   "id": "81208630",
   "metadata": {},
   "source": [
    "3.2 Data preparation"
   ]
  },
  {
   "cell_type": "code",
   "execution_count": 75,
   "id": "5b4b27f1",
   "metadata": {},
   "outputs": [
    {
     "data": {
      "text/plain": [
       "(4710501, 5)"
      ]
     },
     "execution_count": 75,
     "metadata": {},
     "output_type": "execute_result"
    }
   ],
   "source": [
    "#dataset shape\n",
    "df_trans.shape"
   ]
  },
  {
   "cell_type": "code",
   "execution_count": 45,
   "id": "1c2cbda2",
   "metadata": {},
   "outputs": [
    {
     "data": {
      "text/plain": [
       "uid1                 9198\n",
       "date_pur              651\n",
       "mcc_id                314\n",
       "transaction_amt    361045\n",
       "transaction_qty        84\n",
       "dtype: int64"
      ]
     },
     "execution_count": 45,
     "metadata": {},
     "output_type": "execute_result"
    }
   ],
   "source": [
    "# unique values\n",
    "df_trans.nunique()"
   ]
  },
  {
   "cell_type": "code",
   "execution_count": 47,
   "id": "87f44f24",
   "metadata": {},
   "outputs": [
    {
     "data": {
      "text/html": [
       "<div>\n",
       "<style scoped>\n",
       "    .dataframe tbody tr th:only-of-type {\n",
       "        vertical-align: middle;\n",
       "    }\n",
       "\n",
       "    .dataframe tbody tr th {\n",
       "        vertical-align: top;\n",
       "    }\n",
       "\n",
       "    .dataframe thead th {\n",
       "        text-align: right;\n",
       "    }\n",
       "</style>\n",
       "<table border=\"1\" class=\"dataframe\">\n",
       "  <thead>\n",
       "    <tr style=\"text-align: right;\">\n",
       "      <th></th>\n",
       "      <th>uid1</th>\n",
       "      <th>date_pur</th>\n",
       "      <th>mcc_id</th>\n",
       "      <th>transaction_amt</th>\n",
       "      <th>transaction_qty</th>\n",
       "    </tr>\n",
       "  </thead>\n",
       "  <tbody>\n",
       "  </tbody>\n",
       "</table>\n",
       "</div>"
      ],
      "text/plain": [
       "Empty DataFrame\n",
       "Columns: [uid1, date_pur, mcc_id, transaction_amt, transaction_qty]\n",
       "Index: []"
      ]
     },
     "execution_count": 47,
     "metadata": {},
     "output_type": "execute_result"
    }
   ],
   "source": [
    "#missing values\n",
    "#no missing values\n",
    "df_trans[df_trans.uid1.isna()]"
   ]
  },
  {
   "cell_type": "code",
   "execution_count": 9,
   "id": "29d41a64",
   "metadata": {},
   "outputs": [],
   "source": [
    "# let's change date_pur to date\n",
    "df_trans['date_pur'] = pd.to_datetime(df_trans['date_pur'], format=\"%Y-%m-%d\", errors='coerce')"
   ]
  },
  {
   "cell_type": "code",
   "execution_count": 10,
   "id": "88b8a6cd",
   "metadata": {},
   "outputs": [],
   "source": [
    "# and create month of registration\n",
    "df_trans['purchase_month'] = df_trans['date_pur'].dt.to_period('M')"
   ]
  },
  {
   "cell_type": "markdown",
   "id": "ba80947b",
   "metadata": {},
   "source": [
    "4. Merging datasets"
   ]
  },
  {
   "cell_type": "code",
   "execution_count": 60,
   "id": "1813d0d7",
   "metadata": {},
   "outputs": [],
   "source": [
    "#choose those generations which got into our transaction dataset and were registrated\n",
    "df_cust = df_cust[(df_cust.registration_month > pd.to_datetime('01.01.2020', format=\"%d.%m.%Y\") )& (df_cust.registration_month!= pd.to_datetime('01.01.2099', format=\"%d.%m.%Y\") )]"
   ]
  },
  {
   "cell_type": "code",
   "execution_count": 65,
   "id": "f065b83c",
   "metadata": {},
   "outputs": [],
   "source": [
    "df_trans = df_trans.merge(df_cust, how = 'inner', on = 'uid1' )"
   ]
  },
  {
   "cell_type": "markdown",
   "id": "8dd9f80c",
   "metadata": {},
   "source": [
    "5. Cohort analysis"
   ]
  },
  {
   "cell_type": "code",
   "execution_count": 105,
   "id": "b2f39439",
   "metadata": {},
   "outputs": [],
   "source": [
    "#creating cohort - the month of the first transaction\n",
    "df_trans['cohort'] = df_trans.groupby('uid1')['date_pur'] \\\n",
    "                 .transform('min') \\\n",
    "                 .dt.to_period('M') \n",
    "\n",
    "#df_trans[df_trans.uid1==6379644].sort_values(by='date_pur')"
   ]
  },
  {
   "cell_type": "code",
   "execution_count": 99,
   "id": "eb3dd58a",
   "metadata": {},
   "outputs": [
    {
     "data": {
      "text/plain": [
       "cohort\n",
       "2020-01     49\n",
       "2020-02     50\n",
       "2020-03     85\n",
       "2020-04     37\n",
       "2020-05     40\n",
       "2020-06     48\n",
       "2020-07     61\n",
       "2020-08     70\n",
       "2020-09     87\n",
       "2020-10     75\n",
       "2020-11     70\n",
       "2020-12     67\n",
       "2021-01     51\n",
       "2021-02     75\n",
       "2021-03     79\n",
       "2021-04     89\n",
       "2021-05    103\n",
       "2021-06    149\n",
       "2021-07    155\n",
       "2021-08    221\n",
       "2021-09    235\n",
       "2021-10     92\n",
       "Freq: M, Name: uid1, dtype: int64"
      ]
     },
     "execution_count": 99,
     "metadata": {},
     "output_type": "execute_result"
    }
   ],
   "source": [
    "#as we can see value count is cohorts is very small so let's group it\n",
    "df_trans.groupby('cohort').uid1.nunique()"
   ]
  },
  {
   "cell_type": "code",
   "execution_count": 81,
   "id": "10a0da9a",
   "metadata": {},
   "outputs": [
    {
     "data": {
      "text/plain": [
       "0    07\n",
       "1    07\n",
       "2    07\n",
       "3    07\n",
       "4    07\n",
       "Name: cohort, dtype: object"
      ]
     },
     "execution_count": 81,
     "metadata": {},
     "output_type": "execute_result"
    }
   ],
   "source": [
    "dict_temp = {\n",
    "    '2020-03': '2020.Q1',\n",
    "    '2020-02': '2020.Q1', \n",
    "    '2020-01': '2020.Q1',\n",
    "    '2020-04': '2020.Q2',\n",
    "    '2020-05': '2020.Q2',\n",
    "    '2020-06': '2020.Q2',\n",
    "    '2020-07': '2020.Q3',\n",
    "    '2020-08': '2020.Q3',\n",
    "    '2020-09': '2020.Q3',\n",
    "    '2020-10': '2020.Q4', \n",
    "    '2020-11': '2020.Q4',\n",
    "    '2020-12': '2020.Q4',\n",
    "    '2021-03': '2020.Q1',\n",
    "    '2021-02': '2021.Q1', \n",
    "    '2021-01': '2021.Q1',\n",
    "    '2021-04': '2021.Q2',\n",
    "    '2021-05': '2021.Q2',\n",
    "    '2021-06': '2021.Q2',\n",
    "    '2021-07': '2021.Q3',\n",
    "    '2021-08': '2021.Q3',\n",
    "    '2021-09': '2021.Q3',\n",
    "    '2021-10': '2021.Q4', \n",
    "    '2021-11': '2021.Q4',\n",
    "    '2021-12': '2021.Q4'}\n"
   ]
  },
  {
   "cell_type": "code",
   "execution_count": 97,
   "id": "17fd2b57",
   "metadata": {},
   "outputs": [],
   "source": [
    "df_trans['cohort_term'] = df_trans.cohort.astype(str).replace(dict_temp)"
   ]
  },
  {
   "cell_type": "code",
   "execution_count": 109,
   "id": "d6485aac",
   "metadata": {},
   "outputs": [],
   "source": [
    "#creating dataset for the cohort analysis\n",
    "df_cohort = df_trans.groupby(['cohort_term', 'cohort', 'purchase_month']) \\\n",
    "              .agg(n_customers=('uid1', 'nunique')) \\\n",
    "              .reset_index(drop=False)\n",
    "df_cohort['period_number'] = (df_cohort.purchase_month - df_cohort.cohort).apply(attrgetter('n'))"
   ]
  },
  {
   "cell_type": "code",
   "execution_count": 110,
   "id": "d80dd42c",
   "metadata": {},
   "outputs": [],
   "source": [
    "cohort_pivot = df_cohort.pivot_table(index = 'cohort_term',\n",
    "                                     columns = 'period_number',\n",
    "                                     values = 'n_customers')"
   ]
  },
  {
   "cell_type": "code",
   "execution_count": 111,
   "id": "8ada32c9",
   "metadata": {},
   "outputs": [
    {
     "name": "stdout",
     "output_type": "stream",
     "text": [
      "period_number          0           1           2           3           4   \\\n",
      "cohort_term                                                                 \n",
      "2020.Q1         65.750000   61.250000   60.000000   59.000000   59.500000   \n",
      "2020.Q2         41.666667   41.333333   38.666667   39.000000   40.000000   \n",
      "2020.Q3         72.666667   69.000000   68.333333   68.000000   66.666667   \n",
      "2020.Q4         70.666667   68.333333   67.333333   66.333333   67.000000   \n",
      "2021.Q1         63.000000   62.500000   60.000000   59.500000   58.500000   \n",
      "2021.Q2        113.666667  106.666667  107.000000  105.666667  100.666667   \n",
      "2021.Q3        203.666667  190.000000  169.500000  141.000000         NaN   \n",
      "2021.Q4         92.000000         NaN         NaN         NaN         NaN   \n",
      "\n",
      "period_number         5          6          7          8          9   ...  \\\n",
      "cohort_term                                                           ...   \n",
      "2020.Q1        59.500000  59.250000  58.500000  56.666667  56.000000  ...   \n",
      "2020.Q2        39.333333  38.333333  39.666667  39.000000  39.333333  ...   \n",
      "2020.Q3        66.000000  67.666667  68.000000  65.333333  65.000000  ...   \n",
      "2020.Q4        66.666667  65.333333  65.333333  64.333333  66.000000  ...   \n",
      "2021.Q1        57.000000  54.000000  54.500000  52.000000  39.000000  ...   \n",
      "2021.Q2        80.500000  71.000000        NaN        NaN        NaN  ...   \n",
      "2021.Q3              NaN        NaN        NaN        NaN        NaN  ...   \n",
      "2021.Q4              NaN        NaN        NaN        NaN        NaN  ...   \n",
      "\n",
      "period_number         12         13         14         15         16  \\\n",
      "cohort_term                                                            \n",
      "2020.Q1        55.666667  55.666667  55.666667  54.666667  52.666667   \n",
      "2020.Q2        37.666667  38.000000  38.000000  37.666667  36.000000   \n",
      "2020.Q3        64.333333  62.666667  56.000000  51.000000        NaN   \n",
      "2020.Q4        64.000000        NaN        NaN        NaN        NaN   \n",
      "2021.Q1              NaN        NaN        NaN        NaN        NaN   \n",
      "2021.Q2              NaN        NaN        NaN        NaN        NaN   \n",
      "2021.Q3              NaN        NaN        NaN        NaN        NaN   \n",
      "2021.Q4              NaN        NaN        NaN        NaN        NaN   \n",
      "\n",
      "period_number         17    18         19    20    21  \n",
      "cohort_term                                            \n",
      "2020.Q1        55.666667  55.0  53.333333  41.5  36.0  \n",
      "2020.Q2        34.500000  30.0        NaN   NaN   NaN  \n",
      "2020.Q3              NaN   NaN        NaN   NaN   NaN  \n",
      "2020.Q4              NaN   NaN        NaN   NaN   NaN  \n",
      "2021.Q1              NaN   NaN        NaN   NaN   NaN  \n",
      "2021.Q2              NaN   NaN        NaN   NaN   NaN  \n",
      "2021.Q3              NaN   NaN        NaN   NaN   NaN  \n",
      "2021.Q4              NaN   NaN        NaN   NaN   NaN  \n",
      "\n",
      "[8 rows x 22 columns]\n"
     ]
    }
   ],
   "source": [
    "print(cohort_pivot)"
   ]
  },
  {
   "cell_type": "code",
   "execution_count": 112,
   "id": "91f67a17",
   "metadata": {},
   "outputs": [],
   "source": [
    "#creating retention matrix\n",
    "cohort_size = cohort_pivot.iloc[:,0]\n",
    "retention_matrix = cohort_pivot.divide(cohort_size, axis = 0)"
   ]
  },
  {
   "cell_type": "code",
   "execution_count": 113,
   "id": "8139bffb",
   "metadata": {},
   "outputs": [
    {
     "data": {
      "image/png": "[encoded data removed]",
      "text/plain": [
       "<Figure size 1440x864 with 3 Axes>"
      ]
     },
     "metadata": {},
     "output_type": "display_data"
    }
   ],
   "source": [
    "import matplotlib.colors as mcolors\n",
    "with sns.axes_style(\"white\"):\n",
    "    fig, ax = plt.subplots(1, 2, figsize=(20, 12), sharey=True, gridspec_kw={'width_ratios': [1, 11]})\n",
    "    \n",
    "    # retention matrix\n",
    "    sns.heatmap(retention_matrix, \n",
    "                mask=retention_matrix.isnull(), \n",
    "                annot=True, \n",
    "                fmt='.0%', \n",
    "                cmap='RdYlGn', \n",
    "                ax=ax[1])\n",
    "    ax[1].set_title('Monthly Cohorts: User Retention', fontsize=16)\n",
    "    ax[1].set(xlabel='# of periods',\n",
    "              ylabel='')\n",
    "\n",
    "    # cohort size\n",
    "    cohort_size_df = pd.DataFrame(cohort_size).rename(columns={0: 'cohort_size'})\n",
    "    white_cmap = mcolors.ListedColormap(['white'])\n",
    "    sns.heatmap(cohort_size_df, \n",
    "                annot=True, \n",
    "                cbar=False, \n",
    "                fmt='g', \n",
    "                cmap=white_cmap, \n",
    "                ax=ax[0])\n",
    "\n",
    "    fig.tight_layout()"
   ]
  },
  {
   "cell_type": "code",
   "execution_count": 241,
   "id": "5a8b9feb",
   "metadata": {},
   "outputs": [],
   "source": [
    "# as we can see, something has changed in 2021Q1\n",
    "# retention rate started to increase, as we get to 60% at quicker rates\n",
    "# probably at has to do something either with our product (e.g worse cashback options, which stimulates customers)\n",
    "# or with uneffective CRM campaigns as well as acqusition channels (maybe we ran out of loyal customer segment)\n",
    "# therefore we have to analyse what's the difference between early cohorts and late ones"
   ]
  },
  {
   "cell_type": "code",
   "execution_count": 114,
   "id": "bc6ecaec",
   "metadata": {},
   "outputs": [],
   "source": [
    "# i want to see how retention rate is changing by generations\n",
    "cohort_pivot_vint = df_cohort.pivot_table(index = 'period_number',\n",
    "                                     columns = 'cohort_term',\n",
    "                                     values = 'n_customers')"
   ]
  },
  {
   "cell_type": "code",
   "execution_count": 115,
   "id": "21ab6d11",
   "metadata": {},
   "outputs": [],
   "source": [
    "cohort_size_vint = cohort_pivot_vint.loc[0]\n",
    "retention_matrix_vint = cohort_pivot_vint.divide(cohort_size_vint, axis = 1)"
   ]
  },
  {
   "cell_type": "code",
   "execution_count": 116,
   "id": "29c96620",
   "metadata": {},
   "outputs": [
    {
     "data": {
      "image/png": "[encoded data removed]",
      "text/plain": [
       "<Figure size 720x720 with 1 Axes>"
      ]
     },
     "metadata": {
      "needs_background": "light"
     },
     "output_type": "display_data"
    }
   ],
   "source": [
    "#plotting vintages\n",
    "retention_matrix_vint.plot(figsize=(10,10))\n",
    "plt.show()"
   ]
  },
  {
   "cell_type": "code",
   "execution_count": null,
   "id": "b8daf989",
   "metadata": {},
   "outputs": [],
   "source": [
    "# the same conclusions apply to vintages \n",
    "# we can clearly see, that later generations are plummeting on earlier prediod of month\n",
    "# further analysis with more information and data is required in order to figure out what happened"
   ]
  }
 ],
 "metadata": {
  "kernelspec": {
   "display_name": "Python 3 (ipykernel)",
   "language": "python",
   "name": "python3"
  },
  "language_info": {
   "codemirror_mode": {
    "name": "ipython",
    "version": 3
   },
   "file_extension": ".py",
   "mimetype": "text/x-python",
   "name": "python",
   "nbconvert_exporter": "python",
   "pygments_lexer": "ipython3",
   "version": "3.9.7"
  }
 },
 "nbformat": 4,
 "nbformat_minor": 5
}
